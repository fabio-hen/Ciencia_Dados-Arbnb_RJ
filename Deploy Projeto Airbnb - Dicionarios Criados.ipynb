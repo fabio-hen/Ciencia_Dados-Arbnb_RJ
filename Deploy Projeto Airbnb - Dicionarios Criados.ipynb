{
 "cells": [
  {
   "cell_type": "code",
   "execution_count": 17,
   "metadata": {},
   "outputs": [],
   "source": [
    "import pandas as pd\n",
    "import streamlit as st\n",
    "import joblib\n",
    "\n",
    "#modelo = joblib.load('modelo.joblib')\n",
    "\n",
    "x_numericos = {'latitude': 0, 'longitude': 0, 'accommodates': 0, 'bathrooms': 0, 'bedrooms': 0, 'beds': 0, 'extra_people': 0,\n",
    "               'minimum_nights': 0, 'ano': 0, 'mes': 0, 'n_amenities': 0, 'host_listings_count': 0}\n",
    "\n",
    "x_tf = {'host_is_superhost': 0, 'instant_bookable': 0}\n",
    "\n",
    "x_listas = {'property_type': ['Apartment', 'Bed and breakfast', 'Condominium', 'Guest suite', 'Guesthouse', 'Hostel', 'House', 'Loft', 'Outros', 'Serviced apartment'],\n",
    "            'room_type': ['Entire home/apt', 'Hotel room', 'Private room', 'Shared room'],\n",
    "            'cancellation_policy': ['flexible', 'moderate', 'strict', 'strict_14_with_grace_period']\n",
    "            }\n",
    "\n",
    "\n",
    "dicionario = {}\n",
    "\n",
    "for item in x_listas:  #para cada chave do dicionario ele cria uma nova chave com _ e o valor\n",
    "     for valor in x_listas[item]:\n",
    "          dicionario[f'{item}_{valor}'] = 0\n",
    "\n",
    "\n",
    "for item in x_numericos:\n",
    "    if item == 'latitude' or item == 'longitude':\n",
    "            valor = st.number_input(f'{item}', step=0.00001, value=0.0, format=\"%.5f\")\n",
    "    elif item == 'extra_people':\n",
    "        valor = st.number_input(f'{item}', step=0.01, value=0.0) #nao passei format pois o padrao já é 0.00\n",
    "    else:\n",
    "        valor = st.number_input(f'{item}', step=1, value=0)\n",
    "    x_numericos[item] = valor #salva o dicionario com os valores que o usuario colocar\n",
    "\n",
    "for item in x_tf:\n",
    "    valor = st.selectbox(f'{item}', ('Sim', 'Não')) #cria um campo de sim e nao para cada item tf\n",
    "    if valor == 'Sim':\n",
    "        x_tf[item] = 1\n",
    "    else: \n",
    "        x_tf[item] = 0\n",
    "\n",
    "for item in x_listas:\n",
    "    valor = st.selectbox(f'{item}', x_listas[item]) #cria um campo para as listas\n",
    "    dicionario[f'{item}_{valor}'] = 1\n",
    "\n",
    "botao = st.button('Prever Valor do Imovél')\n",
    "\n",
    "if botao:\n",
    "     dicionario.update(x_numericos)\n",
    "     dicionario.update(x_tf)\n",
    "     valores_x = pd.DataFrame(dicionario, index=[0])\n",
    "     dados = pd.read_csv('dados.csv') \n",
    "     colunas = list(dados.columns)[1:-1]\n",
    "     valores_x = valores_x[colunas] #valor x vai ser o antigo valores de X mas na ordem colunas que foi obitido do dados.csv\n",
    "     modelo = joblib.load('modelo.joblib')\n",
    "     preco = modelo.predict(valores_x)\n",
    "     st.write(preco[0])"
   ]
  }
 ],
 "metadata": {
  "kernelspec": {
   "display_name": "Python 3",
   "language": "python",
   "name": "python3"
  },
  "language_info": {
   "codemirror_mode": {
    "name": "ipython",
    "version": 3
   },
   "file_extension": ".py",
   "mimetype": "text/x-python",
   "name": "python",
   "nbconvert_exporter": "python",
   "pygments_lexer": "ipython3",
   "version": "3.11.4"
  }
 },
 "nbformat": 4,
 "nbformat_minor": 4
}
